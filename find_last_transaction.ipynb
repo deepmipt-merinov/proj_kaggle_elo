{
 "cells": [
  {
   "cell_type": "code",
   "execution_count": 1,
   "metadata": {},
   "outputs": [
    {
     "name": "stderr",
     "output_type": "stream",
     "text": [
      "Using TensorFlow backend.\n"
     ]
    }
   ],
   "source": [
    "import os\n",
    "import numpy as np\n",
    "import random as rn\n",
    "import datetime\n",
    "import gc;\n",
    "\n",
    "import pandas as pd\n",
    "pd.set_option('display.max_rows', 100)\n",
    "pd.set_option('display.max_columns', 300)\n",
    "\n",
    "from sklearn.model_selection import StratifiedKFold, KFold\n",
    "from sklearn.metrics import mean_squared_error, log_loss\n",
    "import lightgbm as lgb\n",
    "\n",
    "import seaborn as sns\n",
    "import matplotlib.pyplot as plt\n",
    "import matplotlib.gridspec as gridspec\n",
    "plt.style.use('ggplot')\n",
    "%config InlineBackend.figure_format = 'retina'\n",
    "%matplotlib inline\n",
    "\n",
    "import warnings\n",
    "warnings.filterwarnings('ignore')\n",
    "\n",
    "# libs for FFM embedding (absent in final model)\n",
    "import tensorflow as tf\n",
    "from keras.layers.normalization import BatchNormalization\n",
    "from keras.models import Sequential, Model\n",
    "from keras.layers import Input, Embedding, Dense, Flatten, Concatenate, Dot, Reshape, Add, Subtract\n",
    "from keras import objectives\n",
    "from keras import backend as K\n",
    "from keras import regularizers \n",
    "from keras.optimizers import Adam\n",
    "from keras.callbacks import EarlyStopping, ModelCheckpoint\n",
    "from keras.regularizers import l2"
   ]
  },
  {
   "cell_type": "code",
   "execution_count": 2,
   "metadata": {},
   "outputs": [],
   "source": [
    "def init_seeds(seed):\n",
    "    \n",
    "    os.environ['PYTHONHASHSEED'] = '0'\n",
    "    \n",
    "    np.random.seed(seed)\n",
    "    rn.seed(seed)\n",
    "\n",
    "    # Force TensorFlow to use single thread.\n",
    "    # Multiple threads are potential source of non-reproducible results.\n",
    "    session_conf = tf.ConfigProto(intra_op_parallelism_threads=1, inter_op_parallelism_threads=1)\n",
    "\n",
    "    # The below tf.set_random_seed() will make random number generation\n",
    "    tf.set_random_seed(seed)\n",
    "    sess = tf.Session(graph=tf.get_default_graph(), config=session_conf)\n",
    "    K.set_session(sess)\n",
    "    \n",
    "    return sess\n",
    "\n",
    "sess = init_seeds(seed=0)"
   ]
  },
  {
   "cell_type": "code",
   "execution_count": 3,
   "metadata": {},
   "outputs": [
    {
     "name": "stdout",
     "output_type": "stream",
     "text": [
      "CPU times: user 50.9 s, sys: 15.4 s, total: 1min 6s\n",
      "Wall time: 1min 16s\n"
     ]
    }
   ],
   "source": [
    "%%time\n",
    "\n",
    "def load_transactions(path_to_file):\n",
    "    df = pd.read_csv(path_to_file, usecols=['card_id', 'purchase_date'])\n",
    "    df['purchase_date'] = pd.to_datetime(df['purchase_date'])\n",
    "    return df\n",
    "\n",
    "old_trans = load_transactions('all/historical_transactions.csv')\n",
    "new_trans = load_transactions('all/new_merchant_transactions.csv')"
   ]
  },
  {
   "cell_type": "code",
   "execution_count": 6,
   "metadata": {},
   "outputs": [
    {
     "name": "stdout",
     "output_type": "stream",
     "text": [
      "                card_id      reference_date\n",
      "0       C_ID_00007093c1 2018-04-09 16:23:59\n",
      "1       C_ID_0001238066 2018-04-30 19:57:30\n",
      "2       C_ID_0001506ef0 2018-03-22 09:14:30\n",
      "325537  C_ID_ffff756266 2018-04-10 07:43:43\n",
      "325538  C_ID_ffff828181 2018-04-29 18:59:29\n",
      "325539  C_ID_fffffd5772 2018-03-27 13:45:10\n"
     ]
    }
   ],
   "source": [
    "trans = pd.concat([old_trans, new_trans])\n",
    "\n",
    "reference_date = (trans.groupby('card_id')['purchase_date']\n",
    "                  .max()\n",
    "                  .reset_index()\n",
    "                  .rename(columns={'purchase_date': 'reference_date'})\n",
    "                 )\n",
    "\n",
    "print(pd.concat([reference_date.head(3), reference_date.tail(3)]))"
   ]
  },
  {
   "cell_type": "code",
   "execution_count": null,
   "metadata": {},
   "outputs": [],
   "source": [
    "reference_date.to_csv('saved_features_24-02/reference_date.csv')"
   ]
  },
  {
   "cell_type": "code",
   "execution_count": null,
   "metadata": {},
   "outputs": [],
   "source": []
  }
 ],
 "metadata": {
  "kernelspec": {
   "display_name": "Python 3",
   "language": "python",
   "name": "python3"
  },
  "language_info": {
   "codemirror_mode": {
    "name": "ipython",
    "version": 3
   },
   "file_extension": ".py",
   "mimetype": "text/x-python",
   "name": "python",
   "nbconvert_exporter": "python",
   "pygments_lexer": "ipython3",
   "version": "3.6.5"
  }
 },
 "nbformat": 4,
 "nbformat_minor": 2
}
